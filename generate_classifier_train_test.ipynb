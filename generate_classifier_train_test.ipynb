{
 "cells": [
  {
   "cell_type": "code",
   "execution_count": 17,
   "metadata": {
    "collapsed": true
   },
   "outputs": [],
   "source": [
    "import csv\n",
    "import numpy as np\n",
    "import itertools"
   ]
  },
  {
   "cell_type": "code",
   "execution_count": 18,
   "metadata": {
    "collapsed": true
   },
   "outputs": [],
   "source": [
    "# Read files of Disease/Drug node IDs and train/test edges\n",
    "def readFiles():\n",
    "    \n",
    "    # Get All Disease/Drug Node IDs\n",
    "    allDiseases = set([])\n",
    "    allDrugs = set([])\n",
    "    \n",
    "    nodeIDsFile = \"disease-chemical.tsv\"\n",
    "    \n",
    "    index = 0\n",
    "    with open(nodeIDsFile) as new:\n",
    "        for line in csv.reader(new, delimiter=\"\\t\"):\n",
    "            # Ignore header\n",
    "            if index == 0:\n",
    "                index += 1\n",
    "                continue\n",
    "            \n",
    "            allDiseases.add(int(line[0]))\n",
    "            allDrugs.add(int(line[1]))\n",
    "            \n",
    "            index += 1\n",
    "            \n",
    "    # Get Train/Test Edges and Diseases/Drugs Nodes\n",
    "    \n",
    "    # Only valid if in current train/test graph since some diseases/drugs in main file may have been filtered due k-core\n",
    "    validDiseases = set([])\n",
    "    validDrugs = set([])\n",
    "    \n",
    "    trainEdges = set([])\n",
    "    deletedEdges = set([])\n",
    "    \n",
    "    trainEdgesFile = \"train_edges.txt\"\n",
    "    deletedEdgesFile = \"deleted_edges.txt\"\n",
    "    \n",
    "    # Read train edges file\n",
    "    with open(trainEdgesFile) as new:\n",
    "        for line in csv.reader(new, delimiter=\"\\t\"):\n",
    "            node1 = int(line[0])\n",
    "            node2 = int(line[1])\n",
    "            \n",
    "            if node1 in allDiseases:\n",
    "                validDiseases.add(node1)\n",
    "                validDrugs.add(node2)\n",
    "                trainEdges.add((node1, node2)) # will always be (disease, drug)\n",
    "            else:\n",
    "                validDrugs.add(node1)\n",
    "                validDiseases.add(node2)\n",
    "                trainEdges.add((node2, node1))\n",
    "    \n",
    "    # Read deleted edges file\n",
    "    with open(deletedEdgesFile) as new:\n",
    "        for line in csv.reader(new, delimiter=\"\\t\"):\n",
    "            node1 = int(line[0])\n",
    "            node2 = int(line[1])\n",
    "            \n",
    "            if node1 in allDiseases:\n",
    "                validDiseases.add(node1)\n",
    "                validDrugs.add(node2)\n",
    "                deletedEdges.add((node1, node2))\n",
    "            else:\n",
    "                validDrugs.add(node1)\n",
    "                validDiseases.add(node2)\n",
    "                deletedEdges.add((node2, node1))\n",
    "    \n",
    "    return validDiseases, validDrugs, trainEdges, deletedEdges"
   ]
  },
  {
   "cell_type": "code",
   "execution_count": 25,
   "metadata": {
    "collapsed": false
   },
   "outputs": [],
   "source": [
    "# Generate train/test sets for classifier including both positive and negative examples\n",
    "def generateTrainTestSets():\n",
    "    validDiseases, validDrugs, trainEdges, deletedEdges = readFiles()\n",
    "    numTrainEdges = len(trainEdges)\n",
    "    numDeletedEdges = len(deletedEdges)\n",
    "    print len(validDiseases), len(validDrugs), len(validDiseases) + len(validDrugs), numTrainEdges, numDeletedEdges\n",
    "    \n",
    "    # Generate random negative examples\n",
    "    allPairs = set(itertools.product(validDiseases, validDrugs))\n",
    "    allNegExamples = allPairs.difference(trainEdges)\n",
    "    allNegExamples = list(allNegExamples.difference(deletedEdges))\n",
    "    \n",
    "    numAllNegExamples = len(allNegExamples)\n",
    "    negIndices = np.random.choice(numAllNegExamples, numTrainEdges + numDeletedEdges, replace=False)\n",
    "    negExamples = [allNegExamples[i] for i in negIndices]\n",
    "    print len(negExamples)\n",
    "    \n",
    "    # Generate train/test sets\n",
    "    train = [] # list of (disease, drug, 1 or 0 indicating a link between the nodes)\n",
    "    test = []\n",
    "    \n",
    "    for disease, drug in trainEdges:\n",
    "        train.append((disease, drug, 1))\n",
    "    for disease, drug in negExamples[:numTrainEdges]:\n",
    "        train.append((disease, drug, 0))\n",
    "    \n",
    "    for disease, drug in deletedEdges:\n",
    "        test.append((disease, drug, 1))\n",
    "    for disease, drug in negExamples[numTrainEdges:]:\n",
    "        test.append((disease, drug, 0))\n",
    "        \n",
    "    return train, test"
   ]
  },
  {
   "cell_type": "code",
   "execution_count": 26,
   "metadata": {
    "collapsed": true
   },
   "outputs": [],
   "source": [
    "# Write train/test sets to output files\n",
    "def writeTrainTestOutput():\n",
    "    train, test = generateTrainTestSets()\n",
    "    print len(train), len(test)\n",
    "    \n",
    "    trainOutputName = \"train.tsv\"\n",
    "    with open(trainOutputName, 'w') as output:\n",
    "        for disease, drug, indicator in train:\n",
    "            output.write(str(disease) + \"\\t\" + str(drug) + \"\\t\" + str(indicator) + \"\\n\")\n",
    "    output.close()\n",
    "    \n",
    "    testOutputName = \"test.tsv\"\n",
    "    with open(testOutputName, 'w') as output:\n",
    "        for disease, drug, indicator in test:\n",
    "            output.write(str(disease) + \"\\t\" + str(drug) + \"\\t\" + str(indicator) + \"\\n\")\n",
    "    output.close()"
   ]
  },
  {
   "cell_type": "code",
   "execution_count": 27,
   "metadata": {
    "collapsed": false
   },
   "outputs": [
    {
     "name": "stdout",
     "output_type": "stream",
     "text": [
      "4766 1562 6328 463253 2000\n",
      "465253\n",
      "926506 4000\n"
     ]
    }
   ],
   "source": [
    "writeTrainTestOutput()"
   ]
  },
  {
   "cell_type": "code",
   "execution_count": null,
   "metadata": {
    "collapsed": true
   },
   "outputs": [],
   "source": []
  }
 ],
 "metadata": {
  "kernelspec": {
   "display_name": "Python [default]",
   "language": "python",
   "name": "python2"
  },
  "language_info": {
   "codemirror_mode": {
    "name": "ipython",
    "version": 2
   },
   "file_extension": ".py",
   "mimetype": "text/x-python",
   "name": "python",
   "nbconvert_exporter": "python",
   "pygments_lexer": "ipython2",
   "version": "2.7.12"
  }
 },
 "nbformat": 4,
 "nbformat_minor": 1
}
