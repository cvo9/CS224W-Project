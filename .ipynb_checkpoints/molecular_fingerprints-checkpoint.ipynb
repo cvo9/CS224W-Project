{
 "cells": [
  {
   "cell_type": "code",
   "execution_count": 39,
   "metadata": {
    "collapsed": true
   },
   "outputs": [],
   "source": [
    "import csv\n",
    "from rdkit import Chem\n",
    "from rdkit.Chem import AllChem"
   ]
  },
  {
   "cell_type": "code",
   "execution_count": 40,
   "metadata": {
    "collapsed": false
   },
   "outputs": [],
   "source": [
    "# Read files of node IDs and SMILES codes\n",
    "def readFiles():\n",
    "    \n",
    "    # Get all nodeIDs of drugs in our network\n",
    "    nodeIDsFile = \"disease-chemical.tsv\"\n",
    "    drugs = set([])\n",
    "    \n",
    "    index = 0\n",
    "    with open(nodeIDsFile) as new:\n",
    "        for line in csv.reader(new, delimiter=\"\\t\"):\n",
    "            # Ignore header\n",
    "            if index == 0:\n",
    "                index += 1\n",
    "                continue\n",
    "            \n",
    "            drug = int(line[1])\n",
    "            drugs.add(drug)\n",
    "    \n",
    "    # Get all DrugBank IDs and their SMILES code\n",
    "    drugBankFile = \"structure links.csv\"\n",
    "    smilesCodes = {} # dict from DB ID to SMILES\n",
    "    \n",
    "    index = 0\n",
    "    with open(drugBankFile) as new:\n",
    "        for line in csv.reader(new, delimiter=\",\"):\n",
    "            # Ignore header\n",
    "            if index == 0:\n",
    "                index += 1\n",
    "                continue\n",
    "            \n",
    "            drugBankID = line[0]\n",
    "            smilesCode = line[6]\n",
    "            \n",
    "            if smilesCode != \"\":\n",
    "                smilesCodes[drugBankID] = smilesCode\n",
    "            \n",
    "    return drugs, smilesCodes"
   ]
  },
  {
   "cell_type": "code",
   "execution_count": 41,
   "metadata": {
    "collapsed": true
   },
   "outputs": [],
   "source": [
    "# Converts a nodeID to DrugBank ID\n",
    "def convertDrugID(nodeID):\n",
    "    \n",
    "    maxDiseaseID = 600608\n",
    "    dbIDLen = 5 # DrugBank IDs have 5 digits in the value, ie DB00564\n",
    "    \n",
    "    dbID = nodeID - maxDiseaseID\n",
    "    numZeros = dbIDLen - len(str(dbID))\n",
    "    \n",
    "    dbID_string = \"DB\"\n",
    "    for i in range(numZeros):\n",
    "        dbID_string += \"0\"\n",
    "    \n",
    "    dbID_string += str(dbID)\n",
    "    \n",
    "    return dbID_string\n",
    "\n",
    "# Converts SMILES to fingerprint; returns None if error\n",
    "def convertSmilesToFingerprint(mol):\n",
    "    try:\n",
    "        fingerprint = list(AllChem.GetMorganFingerprintAsBitVect(mol,2,nBits=128))\n",
    "        return fingerprint\n",
    "    except:\n",
    "        return None"
   ]
  },
  {
   "cell_type": "code",
   "execution_count": 42,
   "metadata": {
    "collapsed": true
   },
   "outputs": [],
   "source": [
    "# Get molecular fingerprints for each drug from SMILES code\n",
    "def getMolFingerprints():\n",
    "    drugs, smilesCodes = readFiles()\n",
    "    drugs = list(drugs)\n",
    "    print len(drugs)\n",
    "    \n",
    "    fingerprints = []\n",
    "    for nodeID in drugs:\n",
    "        \n",
    "        drugBankID = convertDrugID(nodeID)\n",
    "        if drugBankID not in smilesCodes:\n",
    "            continue\n",
    "        \n",
    "        smilesCode = smilesCodes[drugBankID]\n",
    "        mol = Chem.MolFromSmiles(smilesCode)\n",
    "        fingerprint = convertSmilesToFingerprint(mol)\n",
    "\n",
    "        if fingerprint == None:\n",
    "            continue\n",
    "        \n",
    "        fingerprints.append((nodeID, fingerprint))\n",
    "    \n",
    "    return fingerprints"
   ]
  },
  {
   "cell_type": "code",
   "execution_count": 43,
   "metadata": {
    "collapsed": true
   },
   "outputs": [],
   "source": [
    "# Write fingerprints to output file\n",
    "def writeOutput():\n",
    "    fingerprints = getMolFingerprints()\n",
    "    print len(fingerprints)\n",
    "    \n",
    "    outputName = \"fingerprints.txt\"\n",
    "    \n",
    "    with open(outputName, 'w') as output:\n",
    "        output.write(\"node fingerprint\\n\")\n",
    "        \n",
    "        for nodeID, fingerprint in fingerprints:\n",
    "            output.write(str(nodeID) + \" \")\n",
    "            \n",
    "            for feature in fingerprint:\n",
    "                output.write(str(feature) + \" \")\n",
    "                \n",
    "            output.write(\"\\n\")\n",
    "        \n",
    "    output.close()"
   ]
  },
  {
   "cell_type": "code",
   "execution_count": 44,
   "metadata": {
    "collapsed": false
   },
   "outputs": [
    {
     "name": "stdout",
     "output_type": "stream",
     "text": [
      "1662\n",
      "1614\n"
     ]
    }
   ],
   "source": [
    "writeOutput()"
   ]
  },
  {
   "cell_type": "code",
   "execution_count": null,
   "metadata": {
    "collapsed": true
   },
   "outputs": [],
   "source": []
  }
 ],
 "metadata": {
  "anaconda-cloud": {},
  "kernelspec": {
   "display_name": "Python [default]",
   "language": "python",
   "name": "python2"
  },
  "language_info": {
   "codemirror_mode": {
    "name": "ipython",
    "version": 2
   },
   "file_extension": ".py",
   "mimetype": "text/x-python",
   "name": "python",
   "nbconvert_exporter": "python",
   "pygments_lexer": "ipython2",
   "version": "2.7.12"
  }
 },
 "nbformat": 4,
 "nbformat_minor": 1
}
