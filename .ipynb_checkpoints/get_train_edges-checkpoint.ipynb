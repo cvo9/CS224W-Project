{
 "cells": [
  {
   "cell_type": "code",
   "execution_count": 1,
   "metadata": {
    "collapsed": true
   },
   "outputs": [],
   "source": [
    "import snap"
   ]
  },
  {
   "cell_type": "code",
   "execution_count": 3,
   "metadata": {
    "collapsed": true
   },
   "outputs": [],
   "source": [
    "def getTrainEdges():\n",
    "    edges = []\n",
    "\n",
    "    FIn = snap.TFIn(\"train.graph\")\n",
    "    train = snap.TUNGraph.Load(FIn)\n",
    "    \n",
    "    for edge in train.Edges():\n",
    "        edges.append((edge.GetSrcNId(), edge.GetDstNId()))\n",
    "    \n",
    "    return edges\n",
    "\n",
    "def writeTrainEdgeList():\n",
    "    edges = getTrainEdges()\n",
    "    outputName = \"train_edges.txt\"\n",
    "    \n",
    "    with open(outputName, 'w') as output:\n",
    "        for src, dst in edges:\n",
    "            output.write(str(src) + \"\\t\" + str(dst) + \"\\n\")\n",
    "    output.close()\n",
    "\n",
    "writeTrainEdgeList()"
   ]
  },
  {
   "cell_type": "code",
   "execution_count": null,
   "metadata": {
    "collapsed": true
   },
   "outputs": [],
   "source": []
  }
 ],
 "metadata": {
  "anaconda-cloud": {},
  "kernelspec": {
   "display_name": "Python 2",
   "language": "python",
   "name": "python2"
  },
  "language_info": {
   "codemirror_mode": {
    "name": "ipython",
    "version": 2
   },
   "file_extension": ".py",
   "mimetype": "text/x-python",
   "name": "python",
   "nbconvert_exporter": "python",
   "pygments_lexer": "ipython2",
   "version": "2.7.15"
  }
 },
 "nbformat": 4,
 "nbformat_minor": 1
}
