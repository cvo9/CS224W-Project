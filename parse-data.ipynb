{
 "cells": [
  {
   "cell_type": "code",
   "execution_count": 1,
   "metadata": {},
   "outputs": [],
   "source": [
    "import snap\n",
    "import pandas as pd\n",
    "import sys"
   ]
  },
  {
   "cell_type": "code",
   "execution_count": 42,
   "metadata": {},
   "outputs": [
    {
     "name": "stdout",
     "output_type": "stream",
     "text": [
      "600608\n"
     ]
    }
   ],
   "source": [
    "def readFile(filename):\n",
    "    D = pd.read_table(filename)\n",
    "    return D\n",
    "\n",
    "def writeFile(D, outputname):\n",
    "    n = D.shape[0]\n",
    "    diseases = list(D[D.columns[0]].str[6:])\n",
    "    diseases.remove('ase(MESH)')\n",
    "    diseases = [int(x) for x in diseases]\n",
    "    \n",
    "    chemicals = list(D[D.columns[1]].str[2:])\n",
    "    chemicals.remove('emical')\n",
    "    chemicals = [int(x) for x in chemicals]\n",
    "\n",
    "\n",
    "    maxDiseaseId = max(diseases)\n",
    "    print maxDiseaseId\n",
    "    with open(outputname, 'w') as f:\n",
    "        f.write(\"Disease ID\\tChemical ID\\n\")\n",
    "        for i in range(n-1):\n",
    "            f.write(\"{}\\t{}\\n\".format(diseases[i], chemicals[i] + maxDiseaseId))\n",
    "            \n",
    "def parse():\n",
    "    D = readFile(\"DCh-Miner_miner-disease-chemical.tsv\")\n",
    "    writeFile(D, \"disease-chemical.tsv\")\n",
    "    \n",
    "parse()"
   ]
  },
  {
   "cell_type": "code",
   "execution_count": null,
   "metadata": {},
   "outputs": [],
   "source": []
  }
 ],
 "metadata": {
  "kernelspec": {
   "display_name": "Python 3",
   "language": "python",
   "name": "python3"
  },
  "language_info": {
   "codemirror_mode": {
    "name": "ipython",
    "version": 2
   },
   "file_extension": ".py",
   "mimetype": "text/x-python",
   "name": "python",
   "nbconvert_exporter": "python",
   "pygments_lexer": "ipython2",
   "version": "2.7.14"
  }
 },
 "nbformat": 4,
 "nbformat_minor": 2
}
