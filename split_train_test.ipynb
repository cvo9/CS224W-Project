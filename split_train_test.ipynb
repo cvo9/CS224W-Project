{
 "cells": [
  {
   "cell_type": "code",
   "execution_count": 8,
   "metadata": {},
   "outputs": [],
   "source": [
    "import snap\n",
    "import numpy as np\n",
    "import sys"
   ]
  },
  {
   "cell_type": "code",
   "execution_count": 36,
   "metadata": {},
   "outputs": [
    {
     "name": "stdout",
     "output_type": "stream",
     "text": [
      "463253\n",
      "465253\n"
     ]
    }
   ],
   "source": [
    "def removeEdge(G, n):\n",
    "    i = 0\n",
    "    del_edges = []\n",
    "    while True:\n",
    "        nid = G.GetRndNId()\n",
    "        nodeI = G.GetNI(nid)\n",
    "        # Only consider nodes with degree at least 3\n",
    "        if nodeI.GetDeg() > 3:\n",
    "            neighbor_nid = nodeI.GetNbrNId(0)\n",
    "            neighborI = G.GetNI(neighbor_nid)\n",
    "            if neighborI.GetDeg() > 3:\n",
    "                G.DelEdge(nid, neighbor_nid)\n",
    "                del_edges.append((nid, neighbor_nid))\n",
    "                i += 1\n",
    "        if i >= n:\n",
    "            break\n",
    "    return G, del_edges \n",
    "    \n",
    "def separate():\n",
    "    G = snap.LoadEdgeList(snap.PUNGraph, \"disease-chemical.tsv\", 0, 1)\n",
    "    K = 3\n",
    "    train = snap.GetKCore(G, K)\n",
    "    test = snap.GetKCore(G, K)\n",
    "\n",
    "    #  define how many edges to remove\n",
    "    n = 2000\n",
    "    # Max disease ID\n",
    "    maxDisease = 600608\n",
    "    \n",
    "    train, del_edges = removeEdge(train, n)\n",
    "    with open('deleted_edges.txt', 'w') as f:\n",
    "        for (start, end) in del_edges:\n",
    "            f.write(\"{}\\t{}\\n\".format(start, end))\n",
    "            \n",
    "    print train.GetEdges()\n",
    "    print test.GetEdges()\n",
    "    \n",
    "    # save and load binary\n",
    "    FOut = snap.TFOut(\"test.graph\")\n",
    "    test.Save(FOut)\n",
    "    FOut.Flush()\n",
    "    FOut = snap.TFOut(\"train.graph\")\n",
    "    train.Save(FOut)\n",
    "    FOut.Flush()\n",
    "    \n",
    "separate()"
   ]
  },
  {
   "cell_type": "code",
   "execution_count": null,
   "metadata": {},
   "outputs": [],
   "source": []
  }
 ],
 "metadata": {
  "kernelspec": {
   "display_name": "Python 3",
   "language": "python",
   "name": "python3"
  },
  "language_info": {
   "codemirror_mode": {
    "name": "ipython",
    "version": 2
   },
   "file_extension": ".py",
   "mimetype": "text/x-python",
   "name": "python",
   "nbconvert_exporter": "python",
   "pygments_lexer": "ipython2",
   "version": "2.7.14"
  }
 },
 "nbformat": 4,
 "nbformat_minor": 2
}
