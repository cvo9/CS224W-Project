{
 "cells": [
  {
   "cell_type": "code",
   "execution_count": 3,
   "metadata": {},
   "outputs": [],
   "source": [
    "import snap\n",
    "import numpy as np\n",
    "import operator"
   ]
  },
  {
   "cell_type": "code",
   "execution_count": null,
   "metadata": {},
   "outputs": [],
   "source": [
    "def intersection(lst1, lst2): \n",
    "    return list(set(lst1) & set(lst2))\n",
    "\n",
    "def union(lst1, lst2):\n",
    "    return list(set(lst1) | set(lst2))\n",
    "\n",
    "def Jaccard(x, y):\n",
    "    neighbor_x = []\n",
    "    neighbor_y = []\n",
    "    degx = x.GetDeg()\n",
    "    degy = y.GetDeg()\n",
    "    for i in range(degx):\n",
    "        neighbor_x.append(x.GetNbrNId(i))\n",
    "    for i in range(degy):\n",
    "        neighbor_y.append(y.GetNbrNId(i))\n",
    "    return float(len(intersection(neighbor_x, neighbor_y))) / len(union(neighbor_x, neighbor_y))\n",
    "\n",
    "def preferential_attachment(x,y,n):\n",
    "    neighbor_x = []\n",
    "    neighbor_y = []\n",
    "    degx = x.GetDeg()\n",
    "    degy = y.GetDeg()\n",
    "    for i in range(degx):\n",
    "        neighbor_x.append(x.GetNbrNId(i))\n",
    "    for i in range(degy):\n",
    "        neighbor_y.append(y.GetNbrNId(i))\n",
    "    return float(len(neighbor_x)*len(neighbor_y)) / (2*n)\n",
    "\n",
    "def readFile(filename):\n",
    "    deleted = []\n",
    "    with open('deleted_edges.txt', 'r') as f:\n",
    "        for line in f:\n",
    "            nodes = line.split()\n",
    "            deleted.append((int(nodes[0]), int(nodes[1])))\n",
    "    return deleted\n",
    "\n",
    "def predict():\n",
    "    scores = {}\n",
    "    deleted = readFile('deleted_edges.txt')\n",
    "    FIn = snap.TFIn(\"train.graph\")\n",
    "    train = snap.TUNGraph.Load(FIn)\n",
    "    maxDisease = 600608\n",
    "\n",
    "    # loop over disease nodes\n",
    "    for x in train.Nodes():\n",
    "        nidx = x.GetId()\n",
    "        if nidx <= maxDisease:\n",
    "            # loop over disease nodes\n",
    "            for y in train.Nodes():\n",
    "                nidy = y.GetId()\n",
    "                 # only predict link between chemical and disease\n",
    "                if nidy > maxDisease:\n",
    "                    scores[(nidx,nidy)] = preferential_attachment(x,y,train.GetNodes())\n",
    "\n",
    "    sorted_scores = sorted(scores.items(), key=operator.itemgetter(1), reverse=True)\n",
    "    for prediction in sorted_scores[:1000]:\n",
    "        if prediction in deleted:\n",
    "            print \"yay\\n\"\n",
    "    \n",
    "    \n",
    "predict()\n",
    "# print readFile('deleted_edges.txt')"
   ]
  },
  {
   "cell_type": "code",
   "execution_count": null,
   "metadata": {},
   "outputs": [],
   "source": []
  }
 ],
 "metadata": {
  "kernelspec": {
   "display_name": "Python 3",
   "language": "python",
   "name": "python3"
  },
  "language_info": {
   "codemirror_mode": {
    "name": "ipython",
    "version": 2
   },
   "file_extension": ".py",
   "mimetype": "text/x-python",
   "name": "python",
   "nbconvert_exporter": "python",
   "pygments_lexer": "ipython2",
   "version": "2.7.14"
  }
 },
 "nbformat": 4,
 "nbformat_minor": 2
}
