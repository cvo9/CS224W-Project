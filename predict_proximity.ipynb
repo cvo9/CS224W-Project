{
 "cells": [
  {
   "cell_type": "code",
   "execution_count": 1,
   "metadata": {
    "collapsed": true
   },
   "outputs": [],
   "source": [
    "import snap\n",
    "import numpy as np\n",
    "import operator"
   ]
  },
  {
   "cell_type": "code",
   "execution_count": 12,
   "metadata": {
    "collapsed": false
   },
   "outputs": [
    {
     "name": "stdout",
     "output_type": "stream",
     "text": [
      "0.0345\n"
     ]
    }
   ],
   "source": [
    "def intersection(lst1, lst2): \n",
    "    return list(set(lst1) & set(lst2))\n",
    "\n",
    "def union(lst1, lst2):\n",
    "    return list(set(lst1) | set(lst2))\n",
    "\n",
    "def Jaccard(x, y):\n",
    "    neighbor_x = []\n",
    "    neighbor_y = []\n",
    "    degx = x.GetDeg()\n",
    "    degy = y.GetDeg()\n",
    "    for i in range(degx):\n",
    "        neighbor_x.append(x.GetNbrNId(i))\n",
    "    for i in range(degy):\n",
    "        neighbor_y.append(y.GetNbrNId(i))\n",
    "    return float(len(intersection(neighbor_x, neighbor_y))) / len(union(neighbor_x, neighbor_y))\n",
    "\n",
    "def preferential_attachment(x,y,n):\n",
    "    neighbor_x = []\n",
    "    neighbor_y = []\n",
    "    degx = x.GetDeg()\n",
    "    degy = y.GetDeg()\n",
    "#     for i in range(degx):\n",
    "#         neighbor_x.append(x.GetNbrNId(i))\n",
    "#     for i in range(degy):\n",
    "#         neighbor_y.append(y.GetNbrNId(i))\n",
    "    return float(degx*degy) / (2*n)\n",
    "\n",
    "def readFile(filename):\n",
    "    deleted = []\n",
    "    with open('deleted_edges.txt', 'r') as f:\n",
    "        for line in f:\n",
    "            nodes = line.split()\n",
    "            deleted.append((int(nodes[0]), int(nodes[1])))\n",
    "    return deleted\n",
    "\n",
    "def predict_preferential():\n",
    "    scores = {}\n",
    "    deleted = readFile('deleted_edges.txt')\n",
    "    FIn = snap.TFIn(\"train.graph\")\n",
    "    train = snap.TUNGraph.Load(FIn)\n",
    "    maxDisease = 600608\n",
    "\n",
    "    # loop over disease nodes\n",
    "    for x in train.Nodes():\n",
    "        nidx = x.GetId()\n",
    "        if nidx <= maxDisease:\n",
    "            # loop over chemical nodes\n",
    "            for y in train.Nodes():\n",
    "                nidy = y.GetId()\n",
    "                 # only predict link between chemical and disease\n",
    "                if nidy > maxDisease and not train.IsEdge(nidx, nidy):\n",
    "                    scores[(nidx,nidy)] = preferential_attachment(x,y,train.GetEdges())\n",
    "\n",
    "    sorted_scores = sorted(scores.items(), key=operator.itemgetter(1), reverse=True)        \n",
    "    correct = 0\n",
    "    n = 2000\n",
    "    FIn = snap.TFIn(\"test.graph\")\n",
    "    test = snap.TUNGraph.Load(FIn)\n",
    "    \n",
    "    for prediction in sorted_scores[:n]:\n",
    "        if test.IsEdge(prediction[0][0], prediction[0][1]) :\n",
    "            correct += 1\n",
    "\n",
    "    print float(correct)/n\n",
    "    \n",
    "predict_preferential()\n",
    "# print readFile('deleted_edges.txt')"
   ]
  },
  {
   "cell_type": "code",
   "execution_count": null,
   "metadata": {
    "collapsed": true
   },
   "outputs": [],
   "source": [
    "def predict_distance():\n",
    "    scores = {}\n",
    "    deleted = readFile('deleted_edges.txt')\n",
    "    FIn = snap.TFIn(\"train.graph\")\n",
    "    train = snap.TUNGraph.Load(FIn)\n",
    "    maxDisease = 600608\n",
    "\n",
    "    # loop over disease nodes\n",
    "    for x in train.Nodes():\n",
    "        nidx = x.GetId()\n",
    "        if nidx <= maxDisease:\n",
    "            # loop over chemical nodes\n",
    "            for y in train.Nodes():\n",
    "                nidy = y.GetId()\n",
    "                 # only predict link between chemical and disease\n",
    "                if nidy > maxDisease and not train.IsEdge(nidx, nidy):\n",
    "                    scores[(nidx,nidy)] = snap.GetShortPath(train,nidx,nidy)\n",
    "\n",
    "    sorted_scores = sorted(scores.items(), key=operator.itemgetter(1))        \n",
    "    correct = 0\n",
    "    n = 2000\n",
    "    FIn = snap.TFIn(\"test.graph\")\n",
    "    test = snap.TUNGraph.Load(FIn)\n",
    "    \n",
    "    for prediction in sorted_scores[:n]:\n",
    "        if test.IsEdge(prediction[0][0], prediction[0][1]) :\n",
    "            correct += 1\n",
    "\n",
    "    print float(correct)/n\n",
    "    \n",
    "predict_distance()"
   ]
  },
  {
   "cell_type": "code",
   "execution_count": null,
   "metadata": {
    "collapsed": true
   },
   "outputs": [],
   "source": []
  }
 ],
 "metadata": {
  "kernelspec": {
   "display_name": "Python [default]",
   "language": "python",
   "name": "python2"
  },
  "language_info": {
   "codemirror_mode": {
    "name": "ipython",
    "version": 2
   },
   "file_extension": ".py",
   "mimetype": "text/x-python",
   "name": "python",
   "nbconvert_exporter": "python",
   "pygments_lexer": "ipython2",
   "version": "2.7.12"
  }
 },
 "nbformat": 4,
 "nbformat_minor": 2
}
